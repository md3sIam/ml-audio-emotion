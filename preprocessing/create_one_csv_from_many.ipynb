{
 "cells": [
  {
   "cell_type": "code",
   "execution_count": 47,
   "metadata": {
    "collapsed": true,
    "pycharm": {
     "name": "#%%\n"
    }
   },
   "outputs": [],
   "source": [
    "import keras\n",
    "import pandas as pd\n",
    "import os\n",
    "from collections import defaultdict\n",
    "\n",
    "\n",
    "DATA_PATH = os.path.normpath(os.path.abspath('../Data'))\n",
    "CATS = [str(i) for i in range(1, 6)]\n",
    "\n",
    "RESULTING_CSV = os.path.join(DATA_PATH, 'feature_csv.csv')\n",
    "\n",
    "FEATURES = 'spec_bandwidth spec_centroids spec_rolloff zero_crossing'.split()\n",
    "\n",
    "data = defaultdict(dict) # cat -> features -> filename and its features"
   ]
  },
  {
   "cell_type": "code",
   "execution_count": 48,
   "outputs": [],
   "source": [
    "SIZE = 43\n",
    "\n",
    "def create_columns(prefix, size=SIZE):\n",
    "    return ' '.join(f'{prefix}_{i}' for i in range(size))\n",
    "\n",
    "bandwidths_columns = create_columns('band')\n",
    "centroids_columns = create_columns('cent')\n",
    "rolloff_columns = create_columns('roll')\n",
    "crossing_columns = create_columns('cros')\n",
    "\n",
    "columns = ' '.join(('file', 'cat', bandwidths_columns, centroids_columns, rolloff_columns, crossing_columns)).split()"
   ],
   "metadata": {
    "collapsed": false,
    "pycharm": {
     "name": "#%%\n"
    }
   }
  },
  {
   "cell_type": "code",
   "execution_count": 49,
   "outputs": [],
   "source": [
    "rename_cols_dict = {\n",
    "    'spec_bandwidth': {str(i): bandwidths_columns[i] for i in range(SIZE)},\n",
    "    'spec_centroids': {str(i): centroids_columns[i] for i in range(SIZE)},\n",
    "    'spec_rolloff': {str(i): rolloff_columns[i] for i in range(SIZE)},\n",
    "    'zero_crossing': {str(i): crossing_columns[i] for i in range(SIZE)},\n",
    "}\n",
    "fn_df = pd.DataFrame(columns=columns)\n",
    "fn_df.set_index('file', inplace=True)"
   ],
   "metadata": {
    "collapsed": false,
    "pycharm": {
     "name": "#%%\n"
    }
   }
  },
  {
   "cell_type": "code",
   "execution_count": 50,
   "outputs": [],
   "source": [
    "index = 0\n",
    "indexes = dict()  # filename to index\n",
    "\n",
    "for_fn_df = []\n",
    "\n",
    "for cat in CATS:\n",
    "    for feature in FEATURES:\n",
    "        path = os.path.join(DATA_PATH, cat, 'csv', feature + '.csv')\n",
    "        df = pd.read_csv(path, index_col='file')\n",
    "\n",
    "        df.rename(columns=rename_cols_dict[feature], inplace=True)  # тут переименовали колонки оригинальный датафреймов\n",
    "        data[cat][feature] = df  # это вроде уже даже не нужно\n",
    "\n",
    "        for file, series in df.iterrows():\n",
    "            if not file in indexes.keys():\n",
    "                for_fn_df.append([file, cat, *series.tolist()[0:43]])\n",
    "                indexes[file] = index\n",
    "                index += 1\n",
    "            else:\n",
    "                file_index = indexes[file]\n",
    "                for_fn_df[file_index].extend(series.tolist()[0:43])\n",
    "        # Если нет файла, добавить строчку, далее по индексам аккуратно присоединить\n"
   ],
   "metadata": {
    "collapsed": false,
    "pycharm": {
     "name": "#%%\n"
    }
   }
  },
  {
   "cell_type": "code",
   "execution_count": 51,
   "outputs": [],
   "source": [
    "fn_df = pd.DataFrame(for_fn_df, columns=columns)\n",
    "fn_df.set_index('file', inplace=True)"
   ],
   "metadata": {
    "collapsed": false,
    "pycharm": {
     "name": "#%%\n"
    }
   }
  },
  {
   "cell_type": "code",
   "execution_count": 57,
   "outputs": [
    {
     "data": {
      "text/plain": "                                                   cat       band_0  \\\nfile                                                                  \nC:\\Users\\mvp31\\Desktop\\University\\Semester_7\\ML...   3  4610.918396   \nC:\\Users\\mvp31\\Desktop\\University\\Semester_7\\ML...   5  4239.901164   \nC:\\Users\\mvp31\\Desktop\\University\\Semester_7\\ML...   3  5533.844326   \nC:\\Users\\mvp31\\Desktop\\University\\Semester_7\\ML...   2  4647.098609   \nC:\\Users\\mvp31\\Desktop\\University\\Semester_7\\ML...   2  6591.721540   \nC:\\Users\\mvp31\\Desktop\\University\\Semester_7\\ML...   2  3975.565982   \nC:\\Users\\mvp31\\Desktop\\University\\Semester_7\\ML...   3  4399.140039   \nC:\\Users\\mvp31\\Desktop\\University\\Semester_7\\ML...   2  7480.602991   \nC:\\Users\\mvp31\\Desktop\\University\\Semester_7\\ML...   1  5008.500508   \nC:\\Users\\mvp31\\Desktop\\University\\Semester_7\\ML...   1  4200.925871   \n\n                                                         band_1       band_2  \\\nfile                                                                           \nC:\\Users\\mvp31\\Desktop\\University\\Semester_7\\ML...  3594.302820  4234.233654   \nC:\\Users\\mvp31\\Desktop\\University\\Semester_7\\ML...  4940.922204  4073.699178   \nC:\\Users\\mvp31\\Desktop\\University\\Semester_7\\ML...  3546.474838  3027.931034   \nC:\\Users\\mvp31\\Desktop\\University\\Semester_7\\ML...  5403.487060  3385.707437   \nC:\\Users\\mvp31\\Desktop\\University\\Semester_7\\ML...  3302.604016  2843.802797   \nC:\\Users\\mvp31\\Desktop\\University\\Semester_7\\ML...  3036.991459  3256.688420   \nC:\\Users\\mvp31\\Desktop\\University\\Semester_7\\ML...  4433.311816  3535.597225   \nC:\\Users\\mvp31\\Desktop\\University\\Semester_7\\ML...  5427.334201  4436.037934   \nC:\\Users\\mvp31\\Desktop\\University\\Semester_7\\ML...  4297.975686  2759.465833   \nC:\\Users\\mvp31\\Desktop\\University\\Semester_7\\ML...  2988.808049  3245.723052   \n\n                                                         band_3       band_4  \\\nfile                                                                           \nC:\\Users\\mvp31\\Desktop\\University\\Semester_7\\ML...  3710.203689  4615.573996   \nC:\\Users\\mvp31\\Desktop\\University\\Semester_7\\ML...  5218.792518  4870.381264   \nC:\\Users\\mvp31\\Desktop\\University\\Semester_7\\ML...  3331.953997  2159.348151   \nC:\\Users\\mvp31\\Desktop\\University\\Semester_7\\ML...  4872.590348  3809.337221   \nC:\\Users\\mvp31\\Desktop\\University\\Semester_7\\ML...  2790.421315  2399.402326   \nC:\\Users\\mvp31\\Desktop\\University\\Semester_7\\ML...  3950.156321  6083.833900   \nC:\\Users\\mvp31\\Desktop\\University\\Semester_7\\ML...  2833.707101  3778.964807   \nC:\\Users\\mvp31\\Desktop\\University\\Semester_7\\ML...  2742.437455  4043.162492   \nC:\\Users\\mvp31\\Desktop\\University\\Semester_7\\ML...  2261.458304  3946.776176   \nC:\\Users\\mvp31\\Desktop\\University\\Semester_7\\ML...  3566.158878  2661.657599   \n\n                                                         band_5       band_6  \\\nfile                                                                           \nC:\\Users\\mvp31\\Desktop\\University\\Semester_7\\ML...  3941.307958  3956.397947   \nC:\\Users\\mvp31\\Desktop\\University\\Semester_7\\ML...  3307.474751  3165.580868   \nC:\\Users\\mvp31\\Desktop\\University\\Semester_7\\ML...  3811.609330  3491.386622   \nC:\\Users\\mvp31\\Desktop\\University\\Semester_7\\ML...  3369.361290  5269.097721   \nC:\\Users\\mvp31\\Desktop\\University\\Semester_7\\ML...  2460.309807  4772.411212   \nC:\\Users\\mvp31\\Desktop\\University\\Semester_7\\ML...  3724.748767  4235.629721   \nC:\\Users\\mvp31\\Desktop\\University\\Semester_7\\ML...  2684.503708  3466.447605   \nC:\\Users\\mvp31\\Desktop\\University\\Semester_7\\ML...  5112.548949  3311.682425   \nC:\\Users\\mvp31\\Desktop\\University\\Semester_7\\ML...  4141.018884  3346.373891   \nC:\\Users\\mvp31\\Desktop\\University\\Semester_7\\ML...  4353.719042  2697.051366   \n\n                                                         band_7       band_8  \\\nfile                                                                           \nC:\\Users\\mvp31\\Desktop\\University\\Semester_7\\ML...  4195.888449  3990.946575   \nC:\\Users\\mvp31\\Desktop\\University\\Semester_7\\ML...  3324.588836  4863.323168   \nC:\\Users\\mvp31\\Desktop\\University\\Semester_7\\ML...  3653.632025  3519.133194   \nC:\\Users\\mvp31\\Desktop\\University\\Semester_7\\ML...  4420.589845  2925.568329   \nC:\\Users\\mvp31\\Desktop\\University\\Semester_7\\ML...  4027.163318  2635.281912   \nC:\\Users\\mvp31\\Desktop\\University\\Semester_7\\ML...  4578.207647  4528.837071   \nC:\\Users\\mvp31\\Desktop\\University\\Semester_7\\ML...  4162.825308  4116.283749   \nC:\\Users\\mvp31\\Desktop\\University\\Semester_7\\ML...  4827.343777  4689.375230   \nC:\\Users\\mvp31\\Desktop\\University\\Semester_7\\ML...  2780.167036  3036.301293   \nC:\\Users\\mvp31\\Desktop\\University\\Semester_7\\ML...  2597.925985  4948.254094   \n\n                                                    ...   cros_33   cros_34  \\\nfile                                                ...                       \nC:\\Users\\mvp31\\Desktop\\University\\Semester_7\\ML...  ...  0.064578  0.092711   \nC:\\Users\\mvp31\\Desktop\\University\\Semester_7\\ML...  ...  0.044944  0.099875   \nC:\\Users\\mvp31\\Desktop\\University\\Semester_7\\ML...  ...  0.069212  0.076372   \nC:\\Users\\mvp31\\Desktop\\University\\Semester_7\\ML...  ...  0.077852  0.000000   \nC:\\Users\\mvp31\\Desktop\\University\\Semester_7\\ML...  ...  0.026485  0.035791   \nC:\\Users\\mvp31\\Desktop\\University\\Semester_7\\ML...  ...  0.096113  0.100353   \nC:\\Users\\mvp31\\Desktop\\University\\Semester_7\\ML...  ...  0.068456  0.084564   \nC:\\Users\\mvp31\\Desktop\\University\\Semester_7\\ML...  ...  0.134541  0.119017   \nC:\\Users\\mvp31\\Desktop\\University\\Semester_7\\ML...  ...  0.025575  0.085678   \nC:\\Users\\mvp31\\Desktop\\University\\Semester_7\\ML...  ...  0.234090  0.308799   \n\n                                                     cros_35   cros_36  \\\nfile                                                                     \nC:\\Users\\mvp31\\Desktop\\University\\Semester_7\\ML...  0.168798  0.003836   \nC:\\Users\\mvp31\\Desktop\\University\\Semester_7\\ML...  0.053059  0.018727   \nC:\\Users\\mvp31\\Desktop\\University\\Semester_7\\ML...  0.054893  0.020286   \nC:\\Users\\mvp31\\Desktop\\University\\Semester_7\\ML...  0.068456  0.123490   \nC:\\Users\\mvp31\\Desktop\\University\\Semester_7\\ML...  0.007158  0.000000   \nC:\\Users\\mvp31\\Desktop\\University\\Semester_7\\ML...  0.037456  0.008481   \nC:\\Users\\mvp31\\Desktop\\University\\Semester_7\\ML...  0.092617  0.059060   \nC:\\Users\\mvp31\\Desktop\\University\\Semester_7\\ML...  0.089263  0.095731   \nC:\\Users\\mvp31\\Desktop\\University\\Semester_7\\ML...  0.069693  0.001279   \nC:\\Users\\mvp31\\Desktop\\University\\Semester_7\\ML...  0.300498  0.177089   \n\n                                                     cros_37   cros_38  \\\nfile                                                                     \nC:\\Users\\mvp31\\Desktop\\University\\Semester_7\\ML...  0.092072  0.033248   \nC:\\Users\\mvp31\\Desktop\\University\\Semester_7\\ML...  0.044944  0.039950   \nC:\\Users\\mvp31\\Desktop\\University\\Semester_7\\ML...  0.028640  0.034010   \nC:\\Users\\mvp31\\Desktop\\University\\Semester_7\\ML...  0.076510  0.055705   \nC:\\Users\\mvp31\\Desktop\\University\\Semester_7\\ML...  0.045812  0.088762   \nC:\\Users\\mvp31\\Desktop\\University\\Semester_7\\ML...  0.042403  0.049470   \nC:\\Users\\mvp31\\Desktop\\University\\Semester_7\\ML...  0.091275  0.083893   \nC:\\Users\\mvp31\\Desktop\\University\\Semester_7\\ML...  0.104140  0.095731   \nC:\\Users\\mvp31\\Desktop\\University\\Semester_7\\ML...  0.214834  0.098465   \nC:\\Users\\mvp31\\Desktop\\University\\Semester_7\\ML...  0.140564  0.115661   \n\n                                                     cros_39   cros_40  \\\nfile                                                                     \nC:\\Users\\mvp31\\Desktop\\University\\Semester_7\\ML...  0.033248  0.000000   \nC:\\Users\\mvp31\\Desktop\\University\\Semester_7\\ML...  0.089888  0.018102   \nC:\\Users\\mvp31\\Desktop\\University\\Semester_7\\ML...  0.021480  0.057279   \nC:\\Users\\mvp31\\Desktop\\University\\Semester_7\\ML...  0.028859  0.097987   \nC:\\Users\\mvp31\\Desktop\\University\\Semester_7\\ML...  0.039370  0.032212   \nC:\\Users\\mvp31\\Desktop\\University\\Semester_7\\ML...  0.004240  0.036042   \nC:\\Users\\mvp31\\Desktop\\University\\Semester_7\\ML...  0.087248  0.059060   \nC:\\Users\\mvp31\\Desktop\\University\\Semester_7\\ML...  0.097671  0.087322   \nC:\\Users\\mvp31\\Desktop\\University\\Semester_7\\ML...  0.079923  0.052430   \nC:\\Users\\mvp31\\Desktop\\University\\Semester_7\\ML...  0.127283  0.152186   \n\n                                                     cros_41   cros_42  \nfile                                                                    \nC:\\Users\\mvp31\\Desktop\\University\\Semester_7\\ML...  0.000000  0.042199  \nC:\\Users\\mvp31\\Desktop\\University\\Semester_7\\ML...  0.065543  0.016854  \nC:\\Users\\mvp31\\Desktop\\University\\Semester_7\\ML...  0.063246  0.102625  \nC:\\Users\\mvp31\\Desktop\\University\\Semester_7\\ML...  0.112752  0.124832  \nC:\\Users\\mvp31\\Desktop\\University\\Semester_7\\ML...  0.073729  0.042233  \nC:\\Users\\mvp31\\Desktop\\University\\Semester_7\\ML...  0.050883  0.037456  \nC:\\Users\\mvp31\\Desktop\\University\\Semester_7\\ML...  0.099329  0.167785  \nC:\\Users\\mvp31\\Desktop\\University\\Semester_7\\ML...  0.058215  0.075679  \nC:\\Users\\mvp31\\Desktop\\University\\Semester_7\\ML...  0.124041  0.234015  \nC:\\Users\\mvp31\\Desktop\\University\\Semester_7\\ML...  0.130603  0.101273  \n\n[10 rows x 173 columns]",
      "text/html": "<div>\n<style scoped>\n    .dataframe tbody tr th:only-of-type {\n        vertical-align: middle;\n    }\n\n    .dataframe tbody tr th {\n        vertical-align: top;\n    }\n\n    .dataframe thead th {\n        text-align: right;\n    }\n</style>\n<table border=\"1\" class=\"dataframe\">\n  <thead>\n    <tr style=\"text-align: right;\">\n      <th></th>\n      <th>cat</th>\n      <th>band_0</th>\n      <th>band_1</th>\n      <th>band_2</th>\n      <th>band_3</th>\n      <th>band_4</th>\n      <th>band_5</th>\n      <th>band_6</th>\n      <th>band_7</th>\n      <th>band_8</th>\n      <th>...</th>\n      <th>cros_33</th>\n      <th>cros_34</th>\n      <th>cros_35</th>\n      <th>cros_36</th>\n      <th>cros_37</th>\n      <th>cros_38</th>\n      <th>cros_39</th>\n      <th>cros_40</th>\n      <th>cros_41</th>\n      <th>cros_42</th>\n    </tr>\n    <tr>\n      <th>file</th>\n      <th></th>\n      <th></th>\n      <th></th>\n      <th></th>\n      <th></th>\n      <th></th>\n      <th></th>\n      <th></th>\n      <th></th>\n      <th></th>\n      <th></th>\n      <th></th>\n      <th></th>\n      <th></th>\n      <th></th>\n      <th></th>\n      <th></th>\n      <th></th>\n      <th></th>\n      <th></th>\n      <th></th>\n    </tr>\n  </thead>\n  <tbody>\n    <tr>\n      <th>C:\\Users\\mvp31\\Desktop\\University\\Semester_7\\ML\\Music\\Data\\3\\03-01-03-02-02-02-17_A17.wav</th>\n      <td>3</td>\n      <td>4610.918396</td>\n      <td>3594.302820</td>\n      <td>4234.233654</td>\n      <td>3710.203689</td>\n      <td>4615.573996</td>\n      <td>3941.307958</td>\n      <td>3956.397947</td>\n      <td>4195.888449</td>\n      <td>3990.946575</td>\n      <td>...</td>\n      <td>0.064578</td>\n      <td>0.092711</td>\n      <td>0.168798</td>\n      <td>0.003836</td>\n      <td>0.092072</td>\n      <td>0.033248</td>\n      <td>0.033248</td>\n      <td>0.000000</td>\n      <td>0.000000</td>\n      <td>0.042199</td>\n    </tr>\n    <tr>\n      <th>C:\\Users\\mvp31\\Desktop\\University\\Semester_7\\ML\\Music\\Data\\5\\03-01-04-01-01-02-08_A8.wav</th>\n      <td>5</td>\n      <td>4239.901164</td>\n      <td>4940.922204</td>\n      <td>4073.699178</td>\n      <td>5218.792518</td>\n      <td>4870.381264</td>\n      <td>3307.474751</td>\n      <td>3165.580868</td>\n      <td>3324.588836</td>\n      <td>4863.323168</td>\n      <td>...</td>\n      <td>0.044944</td>\n      <td>0.099875</td>\n      <td>0.053059</td>\n      <td>0.018727</td>\n      <td>0.044944</td>\n      <td>0.039950</td>\n      <td>0.089888</td>\n      <td>0.018102</td>\n      <td>0.065543</td>\n      <td>0.016854</td>\n    </tr>\n    <tr>\n      <th>C:\\Users\\mvp31\\Desktop\\University\\Semester_7\\ML\\Music\\Data\\3\\03-01-03-02-02-02-19_A19.wav</th>\n      <td>3</td>\n      <td>5533.844326</td>\n      <td>3546.474838</td>\n      <td>3027.931034</td>\n      <td>3331.953997</td>\n      <td>2159.348151</td>\n      <td>3811.609330</td>\n      <td>3491.386622</td>\n      <td>3653.632025</td>\n      <td>3519.133194</td>\n      <td>...</td>\n      <td>0.069212</td>\n      <td>0.076372</td>\n      <td>0.054893</td>\n      <td>0.020286</td>\n      <td>0.028640</td>\n      <td>0.034010</td>\n      <td>0.021480</td>\n      <td>0.057279</td>\n      <td>0.063246</td>\n      <td>0.102625</td>\n    </tr>\n    <tr>\n      <th>C:\\Users\\mvp31\\Desktop\\University\\Semester_7\\ML\\Music\\Data\\2\\03-01-02-01-01-01-19_A19.wav</th>\n      <td>2</td>\n      <td>4647.098609</td>\n      <td>5403.487060</td>\n      <td>3385.707437</td>\n      <td>4872.590348</td>\n      <td>3809.337221</td>\n      <td>3369.361290</td>\n      <td>5269.097721</td>\n      <td>4420.589845</td>\n      <td>2925.568329</td>\n      <td>...</td>\n      <td>0.077852</td>\n      <td>0.000000</td>\n      <td>0.068456</td>\n      <td>0.123490</td>\n      <td>0.076510</td>\n      <td>0.055705</td>\n      <td>0.028859</td>\n      <td>0.097987</td>\n      <td>0.112752</td>\n      <td>0.124832</td>\n    </tr>\n    <tr>\n      <th>C:\\Users\\mvp31\\Desktop\\University\\Semester_7\\ML\\Music\\Data\\2\\03-01-01-01-02-02-08_A8.wav</th>\n      <td>2</td>\n      <td>6591.721540</td>\n      <td>3302.604016</td>\n      <td>2843.802797</td>\n      <td>2790.421315</td>\n      <td>2399.402326</td>\n      <td>2460.309807</td>\n      <td>4772.411212</td>\n      <td>4027.163318</td>\n      <td>2635.281912</td>\n      <td>...</td>\n      <td>0.026485</td>\n      <td>0.035791</td>\n      <td>0.007158</td>\n      <td>0.000000</td>\n      <td>0.045812</td>\n      <td>0.088762</td>\n      <td>0.039370</td>\n      <td>0.032212</td>\n      <td>0.073729</td>\n      <td>0.042233</td>\n    </tr>\n    <tr>\n      <th>C:\\Users\\mvp31\\Desktop\\University\\Semester_7\\ML\\Music\\Data\\2\\03-01-01-01-02-02-22_A22.wav</th>\n      <td>2</td>\n      <td>3975.565982</td>\n      <td>3036.991459</td>\n      <td>3256.688420</td>\n      <td>3950.156321</td>\n      <td>6083.833900</td>\n      <td>3724.748767</td>\n      <td>4235.629721</td>\n      <td>4578.207647</td>\n      <td>4528.837071</td>\n      <td>...</td>\n      <td>0.096113</td>\n      <td>0.100353</td>\n      <td>0.037456</td>\n      <td>0.008481</td>\n      <td>0.042403</td>\n      <td>0.049470</td>\n      <td>0.004240</td>\n      <td>0.036042</td>\n      <td>0.050883</td>\n      <td>0.037456</td>\n    </tr>\n    <tr>\n      <th>C:\\Users\\mvp31\\Desktop\\University\\Semester_7\\ML\\Music\\Data\\3\\03-01-03-01-01-02-16_A16.wav</th>\n      <td>3</td>\n      <td>4399.140039</td>\n      <td>4433.311816</td>\n      <td>3535.597225</td>\n      <td>2833.707101</td>\n      <td>3778.964807</td>\n      <td>2684.503708</td>\n      <td>3466.447605</td>\n      <td>4162.825308</td>\n      <td>4116.283749</td>\n      <td>...</td>\n      <td>0.068456</td>\n      <td>0.084564</td>\n      <td>0.092617</td>\n      <td>0.059060</td>\n      <td>0.091275</td>\n      <td>0.083893</td>\n      <td>0.087248</td>\n      <td>0.059060</td>\n      <td>0.099329</td>\n      <td>0.167785</td>\n    </tr>\n    <tr>\n      <th>C:\\Users\\mvp31\\Desktop\\University\\Semester_7\\ML\\Music\\Data\\2\\03-01-02-02-01-02-12_A12.wav</th>\n      <td>2</td>\n      <td>7480.602991</td>\n      <td>5427.334201</td>\n      <td>4436.037934</td>\n      <td>2742.437455</td>\n      <td>4043.162492</td>\n      <td>5112.548949</td>\n      <td>3311.682425</td>\n      <td>4827.343777</td>\n      <td>4689.375230</td>\n      <td>...</td>\n      <td>0.134541</td>\n      <td>0.119017</td>\n      <td>0.089263</td>\n      <td>0.095731</td>\n      <td>0.104140</td>\n      <td>0.095731</td>\n      <td>0.097671</td>\n      <td>0.087322</td>\n      <td>0.058215</td>\n      <td>0.075679</td>\n    </tr>\n    <tr>\n      <th>C:\\Users\\mvp31\\Desktop\\University\\Semester_7\\ML\\Music\\Data\\1\\03-01-05-01-01-02-05_A5.wav</th>\n      <td>1</td>\n      <td>5008.500508</td>\n      <td>4297.975686</td>\n      <td>2759.465833</td>\n      <td>2261.458304</td>\n      <td>3946.776176</td>\n      <td>4141.018884</td>\n      <td>3346.373891</td>\n      <td>2780.167036</td>\n      <td>3036.301293</td>\n      <td>...</td>\n      <td>0.025575</td>\n      <td>0.085678</td>\n      <td>0.069693</td>\n      <td>0.001279</td>\n      <td>0.214834</td>\n      <td>0.098465</td>\n      <td>0.079923</td>\n      <td>0.052430</td>\n      <td>0.124041</td>\n      <td>0.234015</td>\n    </tr>\n    <tr>\n      <th>C:\\Users\\mvp31\\Desktop\\University\\Semester_7\\ML\\Music\\Data\\1\\03-01-05-02-02-01-03_A3.wav</th>\n      <td>1</td>\n      <td>4200.925871</td>\n      <td>2988.808049</td>\n      <td>3245.723052</td>\n      <td>3566.158878</td>\n      <td>2661.657599</td>\n      <td>4353.719042</td>\n      <td>2697.051366</td>\n      <td>2597.925985</td>\n      <td>4948.254094</td>\n      <td>...</td>\n      <td>0.234090</td>\n      <td>0.308799</td>\n      <td>0.300498</td>\n      <td>0.177089</td>\n      <td>0.140564</td>\n      <td>0.115661</td>\n      <td>0.127283</td>\n      <td>0.152186</td>\n      <td>0.130603</td>\n      <td>0.101273</td>\n    </tr>\n  </tbody>\n</table>\n<p>10 rows × 173 columns</p>\n</div>"
     },
     "execution_count": 57,
     "metadata": {},
     "output_type": "execute_result"
    }
   ],
   "source": [
    "fn_df.sample(10)"
   ],
   "metadata": {
    "collapsed": false,
    "pycharm": {
     "name": "#%%\n"
    }
   }
  },
  {
   "cell_type": "code",
   "execution_count": 58,
   "outputs": [],
   "source": [
    "fn_df.to_csv(RESULTING_CSV)\n"
   ],
   "metadata": {
    "collapsed": false,
    "pycharm": {
     "name": "#%%\n"
    }
   }
  }
 ],
 "metadata": {
  "kernelspec": {
   "name": "pycharm-2e8e3075",
   "language": "python",
   "display_name": "PyCharm (Music)"
  },
  "language_info": {
   "codemirror_mode": {
    "name": "ipython",
    "version": 2
   },
   "file_extension": ".py",
   "mimetype": "text/x-python",
   "name": "python",
   "nbconvert_exporter": "python",
   "pygments_lexer": "ipython2",
   "version": "2.7.6"
  }
 },
 "nbformat": 4,
 "nbformat_minor": 0
}