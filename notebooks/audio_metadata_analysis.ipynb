{
 "cells": [
  {
   "cell_type": "code",
   "execution_count": 3,
   "metadata": {
    "collapsed": true
   },
   "outputs": [],
   "source": [
    "import pandas as pd"
   ]
  },
  {
   "cell_type": "code",
   "execution_count": 4,
   "outputs": [],
   "source": [
    "AUDIO_METADATA_PATH = '../Data/audio_metadata.csv'"
   ],
   "metadata": {
    "collapsed": false,
    "pycharm": {
     "name": "#%%\n"
    }
   }
  },
  {
   "cell_type": "code",
   "execution_count": 30,
   "outputs": [
    {
     "data": {
      "text/plain": "     Unnamed: 0  dir                           fn   channels  sample_width  \\\n0             0    1   03-01-05-01-01-01-01_A1.wav         1             2   \n1             1    1   03-01-05-01-01-01-02_A2.wav         1             2   \n2             2    1   03-01-05-01-01-01-03_A3.wav         1             2   \n3             3    1   03-01-05-01-01-01-04_A4.wav         1             2   \n4             4    1   03-01-05-01-01-01-05_A5.wav         1             2   \n..          ...  ...                           ...       ...           ...   \n854         854    5  03-01-04-02-02-02-20_A20.wav         1             2   \n855         855    5  03-01-04-02-02-02-21_A21.wav         1             2   \n856         856    5  03-01-04-02-02-02-22_A22.wav         1             2   \n857         857    5  03-01-04-02-02-02-23_A23.wav         1             2   \n858         858    5  03-01-04-02-02-02-24_A24.wav         1             2   \n\n     frame_rate  n_frames compression_type compression_name  \n0         48000    185786             NONE   not compressed  \n1         48000    176176             NONE   not compressed  \n2         48000    192192             NONE   not compressed  \n3         48000    177778             NONE   not compressed  \n4         48000    185786             NONE   not compressed  \n..          ...       ...              ...              ...  \n854       48000    190590             NONE   not compressed  \n855       48000    198599             NONE   not compressed  \n856       48000    184184             NONE   not compressed  \n857       48000    227427             NONE   not compressed  \n858       48000    224224             NONE   not compressed  \n\n[859 rows x 9 columns]",
      "text/html": "<div>\n<style scoped>\n    .dataframe tbody tr th:only-of-type {\n        vertical-align: middle;\n    }\n\n    .dataframe tbody tr th {\n        vertical-align: top;\n    }\n\n    .dataframe thead th {\n        text-align: right;\n    }\n</style>\n<table border=\"1\" class=\"dataframe\">\n  <thead>\n    <tr style=\"text-align: right;\">\n      <th></th>\n      <th>Unnamed: 0</th>\n      <th>dir</th>\n      <th>fn</th>\n      <th>channels</th>\n      <th>sample_width</th>\n      <th>frame_rate</th>\n      <th>n_frames</th>\n      <th>compression_type</th>\n      <th>compression_name</th>\n    </tr>\n  </thead>\n  <tbody>\n    <tr>\n      <th>0</th>\n      <td>0</td>\n      <td>1</td>\n      <td>03-01-05-01-01-01-01_A1.wav</td>\n      <td>1</td>\n      <td>2</td>\n      <td>48000</td>\n      <td>185786</td>\n      <td>NONE</td>\n      <td>not compressed</td>\n    </tr>\n    <tr>\n      <th>1</th>\n      <td>1</td>\n      <td>1</td>\n      <td>03-01-05-01-01-01-02_A2.wav</td>\n      <td>1</td>\n      <td>2</td>\n      <td>48000</td>\n      <td>176176</td>\n      <td>NONE</td>\n      <td>not compressed</td>\n    </tr>\n    <tr>\n      <th>2</th>\n      <td>2</td>\n      <td>1</td>\n      <td>03-01-05-01-01-01-03_A3.wav</td>\n      <td>1</td>\n      <td>2</td>\n      <td>48000</td>\n      <td>192192</td>\n      <td>NONE</td>\n      <td>not compressed</td>\n    </tr>\n    <tr>\n      <th>3</th>\n      <td>3</td>\n      <td>1</td>\n      <td>03-01-05-01-01-01-04_A4.wav</td>\n      <td>1</td>\n      <td>2</td>\n      <td>48000</td>\n      <td>177778</td>\n      <td>NONE</td>\n      <td>not compressed</td>\n    </tr>\n    <tr>\n      <th>4</th>\n      <td>4</td>\n      <td>1</td>\n      <td>03-01-05-01-01-01-05_A5.wav</td>\n      <td>1</td>\n      <td>2</td>\n      <td>48000</td>\n      <td>185786</td>\n      <td>NONE</td>\n      <td>not compressed</td>\n    </tr>\n    <tr>\n      <th>...</th>\n      <td>...</td>\n      <td>...</td>\n      <td>...</td>\n      <td>...</td>\n      <td>...</td>\n      <td>...</td>\n      <td>...</td>\n      <td>...</td>\n      <td>...</td>\n    </tr>\n    <tr>\n      <th>854</th>\n      <td>854</td>\n      <td>5</td>\n      <td>03-01-04-02-02-02-20_A20.wav</td>\n      <td>1</td>\n      <td>2</td>\n      <td>48000</td>\n      <td>190590</td>\n      <td>NONE</td>\n      <td>not compressed</td>\n    </tr>\n    <tr>\n      <th>855</th>\n      <td>855</td>\n      <td>5</td>\n      <td>03-01-04-02-02-02-21_A21.wav</td>\n      <td>1</td>\n      <td>2</td>\n      <td>48000</td>\n      <td>198599</td>\n      <td>NONE</td>\n      <td>not compressed</td>\n    </tr>\n    <tr>\n      <th>856</th>\n      <td>856</td>\n      <td>5</td>\n      <td>03-01-04-02-02-02-22_A22.wav</td>\n      <td>1</td>\n      <td>2</td>\n      <td>48000</td>\n      <td>184184</td>\n      <td>NONE</td>\n      <td>not compressed</td>\n    </tr>\n    <tr>\n      <th>857</th>\n      <td>857</td>\n      <td>5</td>\n      <td>03-01-04-02-02-02-23_A23.wav</td>\n      <td>1</td>\n      <td>2</td>\n      <td>48000</td>\n      <td>227427</td>\n      <td>NONE</td>\n      <td>not compressed</td>\n    </tr>\n    <tr>\n      <th>858</th>\n      <td>858</td>\n      <td>5</td>\n      <td>03-01-04-02-02-02-24_A24.wav</td>\n      <td>1</td>\n      <td>2</td>\n      <td>48000</td>\n      <td>224224</td>\n      <td>NONE</td>\n      <td>not compressed</td>\n    </tr>\n  </tbody>\n</table>\n<p>859 rows × 9 columns</p>\n</div>"
     },
     "execution_count": 30,
     "metadata": {},
     "output_type": "execute_result"
    }
   ],
   "source": [
    "df = pd.read_csv(AUDIO_METADATA_PATH)\n",
    "df"
   ],
   "metadata": {
    "collapsed": false,
    "pycharm": {
     "name": "#%%\n"
    }
   }
  },
  {
   "cell_type": "code",
   "execution_count": 7,
   "outputs": [
    {
     "data": {
      "text/plain": "   channels  sample_width  frame_rate  n_frames\n0         1             2       48000    185786\n1         1             2       48000    176176\n2         1             2       48000    192192\n3         1             2       48000    177778\n4         1             2       48000    185786\n5         1             2       48000    180981\n6         1             2       48000    192192\n7         1             2       48000    177778\n8         1             2       48000    171371\n9         1             2       48000    187387",
      "text/html": "<div>\n<style scoped>\n    .dataframe tbody tr th:only-of-type {\n        vertical-align: middle;\n    }\n\n    .dataframe tbody tr th {\n        vertical-align: top;\n    }\n\n    .dataframe thead th {\n        text-align: right;\n    }\n</style>\n<table border=\"1\" class=\"dataframe\">\n  <thead>\n    <tr style=\"text-align: right;\">\n      <th></th>\n      <th>channels</th>\n      <th>sample_width</th>\n      <th>frame_rate</th>\n      <th>n_frames</th>\n    </tr>\n  </thead>\n  <tbody>\n    <tr>\n      <th>0</th>\n      <td>1</td>\n      <td>2</td>\n      <td>48000</td>\n      <td>185786</td>\n    </tr>\n    <tr>\n      <th>1</th>\n      <td>1</td>\n      <td>2</td>\n      <td>48000</td>\n      <td>176176</td>\n    </tr>\n    <tr>\n      <th>2</th>\n      <td>1</td>\n      <td>2</td>\n      <td>48000</td>\n      <td>192192</td>\n    </tr>\n    <tr>\n      <th>3</th>\n      <td>1</td>\n      <td>2</td>\n      <td>48000</td>\n      <td>177778</td>\n    </tr>\n    <tr>\n      <th>4</th>\n      <td>1</td>\n      <td>2</td>\n      <td>48000</td>\n      <td>185786</td>\n    </tr>\n    <tr>\n      <th>5</th>\n      <td>1</td>\n      <td>2</td>\n      <td>48000</td>\n      <td>180981</td>\n    </tr>\n    <tr>\n      <th>6</th>\n      <td>1</td>\n      <td>2</td>\n      <td>48000</td>\n      <td>192192</td>\n    </tr>\n    <tr>\n      <th>7</th>\n      <td>1</td>\n      <td>2</td>\n      <td>48000</td>\n      <td>177778</td>\n    </tr>\n    <tr>\n      <th>8</th>\n      <td>1</td>\n      <td>2</td>\n      <td>48000</td>\n      <td>171371</td>\n    </tr>\n    <tr>\n      <th>9</th>\n      <td>1</td>\n      <td>2</td>\n      <td>48000</td>\n      <td>187387</td>\n    </tr>\n  </tbody>\n</table>\n</div>"
     },
     "execution_count": 7,
     "metadata": {},
     "output_type": "execute_result"
    }
   ],
   "source": [
    "parameters_df = df[['channels', 'sample_width', 'frame_rate', 'n_frames']]\n",
    "parameters_df.head(10)"
   ],
   "metadata": {
    "collapsed": false,
    "pycharm": {
     "name": "#%%\n"
    }
   }
  },
  {
   "cell_type": "code",
   "execution_count": 27,
   "outputs": [
    {
     "name": "stdout",
     "output_type": "stream",
     "text": [
      "Getting missing values:\n"
     ]
    },
    {
     "data": {
      "text/plain": "Empty DataFrame\nColumns: [channels, sample_width, frame_rate, n_frames]\nIndex: []",
      "text/html": "<div>\n<style scoped>\n    .dataframe tbody tr th:only-of-type {\n        vertical-align: middle;\n    }\n\n    .dataframe tbody tr th {\n        vertical-align: top;\n    }\n\n    .dataframe thead th {\n        text-align: right;\n    }\n</style>\n<table border=\"1\" class=\"dataframe\">\n  <thead>\n    <tr style=\"text-align: right;\">\n      <th></th>\n      <th>channels</th>\n      <th>sample_width</th>\n      <th>frame_rate</th>\n      <th>n_frames</th>\n    </tr>\n  </thead>\n  <tbody>\n  </tbody>\n</table>\n</div>"
     },
     "execution_count": 27,
     "metadata": {},
     "output_type": "execute_result"
    }
   ],
   "source": [
    "print('Getting missing values:')\n",
    "parameters_df[parameters_df.isna().any(axis=1)]"
   ],
   "metadata": {
    "collapsed": false,
    "pycharm": {
     "name": "#%%\n"
    }
   }
  },
  {
   "cell_type": "code",
   "execution_count": 29,
   "outputs": [
    {
     "name": "stdout",
     "output_type": "stream",
     "text": [
      "Getting non-null values:\n"
     ]
    },
    {
     "data": {
      "text/plain": "     channels  sample_width  frame_rate  n_frames\n0           1             2       48000    185786\n1           1             2       48000    176176\n2           1             2       48000    192192\n3           1             2       48000    177778\n4           1             2       48000    185786\n..        ...           ...         ...       ...\n854         1             2       48000    190590\n855         1             2       48000    198599\n856         1             2       48000    184184\n857         1             2       48000    227427\n858         1             2       48000    224224\n\n[859 rows x 4 columns]",
      "text/html": "<div>\n<style scoped>\n    .dataframe tbody tr th:only-of-type {\n        vertical-align: middle;\n    }\n\n    .dataframe tbody tr th {\n        vertical-align: top;\n    }\n\n    .dataframe thead th {\n        text-align: right;\n    }\n</style>\n<table border=\"1\" class=\"dataframe\">\n  <thead>\n    <tr style=\"text-align: right;\">\n      <th></th>\n      <th>channels</th>\n      <th>sample_width</th>\n      <th>frame_rate</th>\n      <th>n_frames</th>\n    </tr>\n  </thead>\n  <tbody>\n    <tr>\n      <th>0</th>\n      <td>1</td>\n      <td>2</td>\n      <td>48000</td>\n      <td>185786</td>\n    </tr>\n    <tr>\n      <th>1</th>\n      <td>1</td>\n      <td>2</td>\n      <td>48000</td>\n      <td>176176</td>\n    </tr>\n    <tr>\n      <th>2</th>\n      <td>1</td>\n      <td>2</td>\n      <td>48000</td>\n      <td>192192</td>\n    </tr>\n    <tr>\n      <th>3</th>\n      <td>1</td>\n      <td>2</td>\n      <td>48000</td>\n      <td>177778</td>\n    </tr>\n    <tr>\n      <th>4</th>\n      <td>1</td>\n      <td>2</td>\n      <td>48000</td>\n      <td>185786</td>\n    </tr>\n    <tr>\n      <th>...</th>\n      <td>...</td>\n      <td>...</td>\n      <td>...</td>\n      <td>...</td>\n    </tr>\n    <tr>\n      <th>854</th>\n      <td>1</td>\n      <td>2</td>\n      <td>48000</td>\n      <td>190590</td>\n    </tr>\n    <tr>\n      <th>855</th>\n      <td>1</td>\n      <td>2</td>\n      <td>48000</td>\n      <td>198599</td>\n    </tr>\n    <tr>\n      <th>856</th>\n      <td>1</td>\n      <td>2</td>\n      <td>48000</td>\n      <td>184184</td>\n    </tr>\n    <tr>\n      <th>857</th>\n      <td>1</td>\n      <td>2</td>\n      <td>48000</td>\n      <td>227427</td>\n    </tr>\n    <tr>\n      <th>858</th>\n      <td>1</td>\n      <td>2</td>\n      <td>48000</td>\n      <td>224224</td>\n    </tr>\n  </tbody>\n</table>\n<p>859 rows × 4 columns</p>\n</div>"
     },
     "execution_count": 29,
     "metadata": {},
     "output_type": "execute_result"
    }
   ],
   "source": [
    "print('Getting non-null values:')\n",
    "parameters_df[parameters_df.notna().any(axis=1)]"
   ],
   "metadata": {
    "collapsed": false,
    "pycharm": {
     "name": "#%%\n"
    }
   }
  },
  {
   "cell_type": "code",
   "execution_count": 32,
   "outputs": [
    {
     "name": "stdout",
     "output_type": "stream",
     "text": [
      "Unique channels: [1 2]\n"
     ]
    }
   ],
   "source": [
    "unique_channels = df.channels.unique()\n",
    "print('Unique channels: {}'.format(unique_channels))"
   ],
   "metadata": {
    "collapsed": false,
    "pycharm": {
     "name": "#%%\n"
    }
   }
  },
  {
   "cell_type": "code",
   "execution_count": 34,
   "outputs": [
    {
     "name": "stdout",
     "output_type": "stream",
     "text": [
      "Removing this from data set:\n"
     ]
    },
    {
     "data": {
      "text/plain": "     Unnamed: 0  dir                           fn   channels  sample_width  \\\n290         290    2   03-01-02-01-01-02-01_A1.wav         2             2   \n334         334    2   03-01-02-01-02-02-05_A5.wav         2             2   \n495         495    3  03-01-03-01-02-01-20_A20.wav         2             2   \n\n     frame_rate  n_frames compression_type compression_name  \n290       48000    172972             NONE   not compressed  \n334       48000    203403             NONE   not compressed  \n495       48000    166566             NONE   not compressed  ",
      "text/html": "<div>\n<style scoped>\n    .dataframe tbody tr th:only-of-type {\n        vertical-align: middle;\n    }\n\n    .dataframe tbody tr th {\n        vertical-align: top;\n    }\n\n    .dataframe thead th {\n        text-align: right;\n    }\n</style>\n<table border=\"1\" class=\"dataframe\">\n  <thead>\n    <tr style=\"text-align: right;\">\n      <th></th>\n      <th>Unnamed: 0</th>\n      <th>dir</th>\n      <th>fn</th>\n      <th>channels</th>\n      <th>sample_width</th>\n      <th>frame_rate</th>\n      <th>n_frames</th>\n      <th>compression_type</th>\n      <th>compression_name</th>\n    </tr>\n  </thead>\n  <tbody>\n    <tr>\n      <th>290</th>\n      <td>290</td>\n      <td>2</td>\n      <td>03-01-02-01-01-02-01_A1.wav</td>\n      <td>2</td>\n      <td>2</td>\n      <td>48000</td>\n      <td>172972</td>\n      <td>NONE</td>\n      <td>not compressed</td>\n    </tr>\n    <tr>\n      <th>334</th>\n      <td>334</td>\n      <td>2</td>\n      <td>03-01-02-01-02-02-05_A5.wav</td>\n      <td>2</td>\n      <td>2</td>\n      <td>48000</td>\n      <td>203403</td>\n      <td>NONE</td>\n      <td>not compressed</td>\n    </tr>\n    <tr>\n      <th>495</th>\n      <td>495</td>\n      <td>3</td>\n      <td>03-01-03-01-02-01-20_A20.wav</td>\n      <td>2</td>\n      <td>2</td>\n      <td>48000</td>\n      <td>166566</td>\n      <td>NONE</td>\n      <td>not compressed</td>\n    </tr>\n  </tbody>\n</table>\n</div>"
     },
     "execution_count": 34,
     "metadata": {},
     "output_type": "execute_result"
    }
   ],
   "source": [
    "print('Removing this from data set:')\n",
    "df[df.channels == 2]"
   ],
   "metadata": {
    "collapsed": false,
    "pycharm": {
     "name": "#%%\n"
    }
   }
  },
  {
   "cell_type": "code",
   "execution_count": 39,
   "outputs": [
    {
     "data": {
      "text/plain": "856"
     },
     "execution_count": 39,
     "metadata": {},
     "output_type": "execute_result"
    }
   ],
   "source": [
    "df = df[df.channels == 1]\n",
    "df.shape[0]"
   ],
   "metadata": {
    "collapsed": false,
    "pycharm": {
     "name": "#%%\n"
    }
   }
  },
  {
   "cell_type": "code",
   "execution_count": 40,
   "outputs": [
    {
     "name": "stdout",
     "output_type": "stream",
     "text": [
      "Unique sample widths: [2]\n"
     ]
    }
   ],
   "source": [
    "unique_sample_width = df.sample_width.unique()\n",
    "print('Unique sample widths: {}'.format(unique_sample_width))"
   ],
   "metadata": {
    "collapsed": false,
    "pycharm": {
     "name": "#%%\n"
    }
   }
  },
  {
   "cell_type": "code",
   "execution_count": 41,
   "outputs": [
    {
     "name": "stdout",
     "output_type": "stream",
     "text": [
      "Unique frame rate: [48000]\n"
     ]
    }
   ],
   "source": [
    "unique_frame_rate = df.frame_rate.unique()\n",
    "print('Unique frame rate: {}'.format(unique_frame_rate))"
   ],
   "metadata": {
    "collapsed": false,
    "pycharm": {
     "name": "#%%\n"
    }
   }
  },
  {
   "cell_type": "code",
   "execution_count": 42,
   "outputs": [
    {
     "name": "stdout",
     "output_type": "stream",
     "text": [
      "min: 140941\n",
      "max: 230630\n",
      "mean: 177090.94626168226\n",
      "median: 176176.0\n"
     ]
    }
   ],
   "source": [
    "n_frames = df.n_frames\n",
    "print('min: {}\\nmax: {}\\nmean: {}\\nmedian: {}'\n",
    "      .format(n_frames.min(), n_frames.max(), n_frames.mean(), n_frames.median()))"
   ],
   "metadata": {
    "collapsed": false,
    "pycharm": {
     "name": "#%%\n"
    }
   }
  },
  {
   "cell_type": "code",
   "execution_count": 43,
   "outputs": [
    {
     "data": {
      "text/plain": "count       856.000000\nmean     177090.946262\nstd       14541.088847\nmin      140941.000000\n25%      167767.750000\n50%      176176.000000\n75%      184184.000000\nmax      230630.000000\nName: n_frames, dtype: float64"
     },
     "execution_count": 43,
     "metadata": {},
     "output_type": "execute_result"
    }
   ],
   "source": [
    "n_frames.describe()\n"
   ],
   "metadata": {
    "collapsed": false,
    "pycharm": {
     "name": "#%%\n"
    }
   }
  },
  {
   "cell_type": "markdown",
   "source": [
    "<p>\n",
    "As a result of audio metadata processing, it has been decided to remove those 3 audios\n",
    "that have not 1 audio channel.</p>\n",
    "<p>\n",
    "These files:\n",
    "<ol>\n",
    "    <li> 2/03-01-02-01-01-02-01_A1.wav\n",
    "    <li> 2/03-01-02-01-02-02-05_A5.wav\n",
    "    <li> 3/03-01-03-01-02-01-20_A20.wav\n",
    "</ol>\n",
    "</p>\n",
    "\n"
   ],
   "metadata": {
    "collapsed": false,
    "pycharm": {
     "name": "#%% md\n"
    }
   }
  }
 ],
 "metadata": {
  "kernelspec": {
   "name": "pycharm-2e8e3075",
   "language": "python",
   "display_name": "PyCharm (Music)"
  },
  "language_info": {
   "codemirror_mode": {
    "name": "ipython",
    "version": 2
   },
   "file_extension": ".py",
   "mimetype": "text/x-python",
   "name": "python",
   "nbconvert_exporter": "python",
   "pygments_lexer": "ipython2",
   "version": "2.7.6"
  }
 },
 "nbformat": 4,
 "nbformat_minor": 0
}