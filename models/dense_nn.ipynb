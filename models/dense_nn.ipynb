{
 "cells": [
  {
   "cell_type": "code",
   "execution_count": 2,
   "metadata": {
    "collapsed": true
   },
   "outputs": [],
   "source": [
    "import keras\n",
    "import os\n",
    "import pandas as pd\n",
    "import numpy as np\n",
    "\n",
    "DATA_PATH = os.path.normpath(os.path.abspath('../Data'))\n",
    "DATA_CSV = os.path.join(DATA_PATH, 'feature_csv.csv')"
   ]
  },
  {
   "cell_type": "code",
   "execution_count": 3,
   "outputs": [],
   "source": [
    "df = pd.read_csv(DATA_CSV)"
   ],
   "metadata": {
    "collapsed": false,
    "pycharm": {
     "name": "#%%\n"
    }
   }
  },
  {
   "cell_type": "code",
   "execution_count": 4,
   "outputs": [],
   "source": [
    "# dividing set on training and test\n",
    "cond = np.random.rand(len(df)) < 0.8\n",
    "\n",
    "train_df = df[cond].sample(frac=1)\n",
    "test_df = df[~cond]"
   ],
   "metadata": {
    "collapsed": false,
    "pycharm": {
     "name": "#%%\n"
    }
   }
  },
  {
   "cell_type": "code",
   "execution_count": 5,
   "outputs": [],
   "source": [
    "def get_input_and_labels(df: pd.DataFrame):\n",
    "    input = df.drop(['cat', 'file'], axis=1)\n",
    "    labels = df['cat']\n",
    "    return input, labels\n",
    "\n",
    "x_train, y_train = get_input_and_labels(train_df)\n",
    "x_test, y_test = get_input_and_labels(test_df)"
   ],
   "metadata": {
    "collapsed": false,
    "pycharm": {
     "name": "#%%\n"
    }
   }
  },
  {
   "cell_type": "code",
   "execution_count": 6,
   "outputs": [
    {
     "data": {
      "text/plain": "          band_0       band_1       band_2       band_3       band_4  \\\n412  3363.172550  2982.579910  3085.672095  2930.498508  4279.236633   \n240  5070.985001  1522.024561  1556.839486  2448.884228  4452.840815   \n118  5497.869329  5350.486029  3780.106157  4135.605063  5577.718784   \n507  6149.677095  6780.241689  2238.550412  2931.294556  2331.147382   \n600  7101.995236  4203.185846  3079.282554  3152.132115  5214.251381   \n\n          band_5       band_6       band_7       band_8       band_9  ...  \\\n412  6771.959266  3533.717875  3047.835056  6037.964539  3917.413235  ...   \n240  1842.210052  2548.624737  4592.351513  4041.104222  2759.249262  ...   \n118  3110.787094  2879.851944  4521.417233  4787.578054  4732.307053  ...   \n507  2189.048199  4723.383245  2589.890155  3149.939898  3613.422767  ...   \n600  4867.896522  4587.723041  2315.508486  2596.342867  3928.175641  ...   \n\n      cros_33   cros_34   cros_35   cros_36   cros_37   cros_38   cros_39  \\\n412  0.140456  0.000000  0.000000  0.345987  0.036334  0.000000  0.053145   \n240  0.066758  0.079147  0.093599  0.077082  0.049553  0.011012  0.100482   \n118  0.106264  0.165548  0.133669  0.102349  0.185123  0.070470  0.172260   \n507  0.115914  0.136215  0.156516  0.103471  0.128356  0.146038  0.116568   \n600  0.082257  0.056424  0.054385  0.096533  0.080897  0.092454  0.123046   \n\n      cros_40   cros_41   cros_42  \n412  0.048265  0.088937  0.158894  \n240  0.035788  0.036476  0.083964  \n118  0.095078  0.096197  0.148770  \n507  0.117878  0.151277  0.099542  \n600  0.099932  0.052345  0.059823  \n\n[5 rows x 172 columns]",
      "text/html": "<div>\n<style scoped>\n    .dataframe tbody tr th:only-of-type {\n        vertical-align: middle;\n    }\n\n    .dataframe tbody tr th {\n        vertical-align: top;\n    }\n\n    .dataframe thead th {\n        text-align: right;\n    }\n</style>\n<table border=\"1\" class=\"dataframe\">\n  <thead>\n    <tr style=\"text-align: right;\">\n      <th></th>\n      <th>band_0</th>\n      <th>band_1</th>\n      <th>band_2</th>\n      <th>band_3</th>\n      <th>band_4</th>\n      <th>band_5</th>\n      <th>band_6</th>\n      <th>band_7</th>\n      <th>band_8</th>\n      <th>band_9</th>\n      <th>...</th>\n      <th>cros_33</th>\n      <th>cros_34</th>\n      <th>cros_35</th>\n      <th>cros_36</th>\n      <th>cros_37</th>\n      <th>cros_38</th>\n      <th>cros_39</th>\n      <th>cros_40</th>\n      <th>cros_41</th>\n      <th>cros_42</th>\n    </tr>\n  </thead>\n  <tbody>\n    <tr>\n      <th>412</th>\n      <td>3363.172550</td>\n      <td>2982.579910</td>\n      <td>3085.672095</td>\n      <td>2930.498508</td>\n      <td>4279.236633</td>\n      <td>6771.959266</td>\n      <td>3533.717875</td>\n      <td>3047.835056</td>\n      <td>6037.964539</td>\n      <td>3917.413235</td>\n      <td>...</td>\n      <td>0.140456</td>\n      <td>0.000000</td>\n      <td>0.000000</td>\n      <td>0.345987</td>\n      <td>0.036334</td>\n      <td>0.000000</td>\n      <td>0.053145</td>\n      <td>0.048265</td>\n      <td>0.088937</td>\n      <td>0.158894</td>\n    </tr>\n    <tr>\n      <th>240</th>\n      <td>5070.985001</td>\n      <td>1522.024561</td>\n      <td>1556.839486</td>\n      <td>2448.884228</td>\n      <td>4452.840815</td>\n      <td>1842.210052</td>\n      <td>2548.624737</td>\n      <td>4592.351513</td>\n      <td>4041.104222</td>\n      <td>2759.249262</td>\n      <td>...</td>\n      <td>0.066758</td>\n      <td>0.079147</td>\n      <td>0.093599</td>\n      <td>0.077082</td>\n      <td>0.049553</td>\n      <td>0.011012</td>\n      <td>0.100482</td>\n      <td>0.035788</td>\n      <td>0.036476</td>\n      <td>0.083964</td>\n    </tr>\n    <tr>\n      <th>118</th>\n      <td>5497.869329</td>\n      <td>5350.486029</td>\n      <td>3780.106157</td>\n      <td>4135.605063</td>\n      <td>5577.718784</td>\n      <td>3110.787094</td>\n      <td>2879.851944</td>\n      <td>4521.417233</td>\n      <td>4787.578054</td>\n      <td>4732.307053</td>\n      <td>...</td>\n      <td>0.106264</td>\n      <td>0.165548</td>\n      <td>0.133669</td>\n      <td>0.102349</td>\n      <td>0.185123</td>\n      <td>0.070470</td>\n      <td>0.172260</td>\n      <td>0.095078</td>\n      <td>0.096197</td>\n      <td>0.148770</td>\n    </tr>\n    <tr>\n      <th>507</th>\n      <td>6149.677095</td>\n      <td>6780.241689</td>\n      <td>2238.550412</td>\n      <td>2931.294556</td>\n      <td>2331.147382</td>\n      <td>2189.048199</td>\n      <td>4723.383245</td>\n      <td>2589.890155</td>\n      <td>3149.939898</td>\n      <td>3613.422767</td>\n      <td>...</td>\n      <td>0.115914</td>\n      <td>0.136215</td>\n      <td>0.156516</td>\n      <td>0.103471</td>\n      <td>0.128356</td>\n      <td>0.146038</td>\n      <td>0.116568</td>\n      <td>0.117878</td>\n      <td>0.151277</td>\n      <td>0.099542</td>\n    </tr>\n    <tr>\n      <th>600</th>\n      <td>7101.995236</td>\n      <td>4203.185846</td>\n      <td>3079.282554</td>\n      <td>3152.132115</td>\n      <td>5214.251381</td>\n      <td>4867.896522</td>\n      <td>4587.723041</td>\n      <td>2315.508486</td>\n      <td>2596.342867</td>\n      <td>3928.175641</td>\n      <td>...</td>\n      <td>0.082257</td>\n      <td>0.056424</td>\n      <td>0.054385</td>\n      <td>0.096533</td>\n      <td>0.080897</td>\n      <td>0.092454</td>\n      <td>0.123046</td>\n      <td>0.099932</td>\n      <td>0.052345</td>\n      <td>0.059823</td>\n    </tr>\n  </tbody>\n</table>\n<p>5 rows × 172 columns</p>\n</div>"
     },
     "execution_count": 6,
     "metadata": {},
     "output_type": "execute_result"
    }
   ],
   "source": [
    "x_train.head()"
   ],
   "metadata": {
    "collapsed": false,
    "pycharm": {
     "name": "#%%\n"
    }
   }
  },
  {
   "cell_type": "code",
   "execution_count": 7,
   "outputs": [
    {
     "data": {
      "text/plain": "412    2\n240    2\n118    1\n507    3\n600    4\nName: cat, dtype: int64"
     },
     "execution_count": 7,
     "metadata": {},
     "output_type": "execute_result"
    }
   ],
   "source": [
    "y_train.head()"
   ],
   "metadata": {
    "collapsed": false,
    "pycharm": {
     "name": "#%%\n"
    }
   }
  },
  {
   "cell_type": "code",
   "execution_count": 8,
   "outputs": [],
   "source": [
    "# transforms label from 1 dim to 5 dim vector (for ex, if cat is 3 then vector will be 00100)\n",
    "def transform_y(df_: pd.DataFrame):\n",
    "    result = []\n",
    "    for cat in df_.values:\n",
    "        result.append(np.array([1 if cat == i + 1 else 0 for i in range(5)]))\n",
    "    return np.array(result)\n",
    "\n",
    "y_feed = transform_y(y_train)\n",
    "y_test_feed = transform_y(y_test)"
   ],
   "metadata": {
    "collapsed": false,
    "pycharm": {
     "name": "#%%\n"
    }
   }
  },
  {
   "cell_type": "code",
   "execution_count": 9,
   "outputs": [],
   "source": [
    "x_feed = x_train.values\n",
    "x_test_feed = x_test.values\n"
   ],
   "metadata": {
    "collapsed": false,
    "pycharm": {
     "name": "#%%\n"
    }
   }
  },
  {
   "cell_type": "code",
   "execution_count": 10,
   "outputs": [],
   "source": [
    "from keras.models import Sequential\n",
    "from keras.layers import *\n",
    "import keras.losses as losses\n",
    "import keras.metrics as metrics\n",
    "import matplotlib.pyplot as plt"
   ],
   "metadata": {
    "collapsed": false,
    "pycharm": {
     "name": "#%%\n"
    }
   }
  },
  {
   "cell_type": "code",
   "execution_count": 11,
   "outputs": [
    {
     "name": "stdout",
     "output_type": "stream",
     "text": [
      "Model: \"sequential\"\n",
      "_________________________________________________________________\n",
      "Layer (type)                 Output Shape              Param #   \n",
      "=================================================================\n",
      "Dense_1 (Dense)              (None, 100)               17300     \n",
      "_________________________________________________________________\n",
      "Dense_3 (Dense)              (None, 5)                 505       \n",
      "=================================================================\n",
      "Total params: 17,805\n",
      "Trainable params: 17,805\n",
      "Non-trainable params: 0\n",
      "_________________________________________________________________\n"
     ]
    }
   ],
   "source": [
    "model = Sequential()\n",
    "\n",
    "model.add(Input(shape=(x_feed.shape[1],), name='Input'))\n",
    "model.add(Dense(100, activation='sigmoid', name='Dense_1'))\n",
    "# model.add(Dense(64, activation='sigmoid', name='Dense_2'))\n",
    "model.add(Dense(5, activation='sigmoid', name='Dense_3'))\n",
    "\n",
    "model.compile(\n",
    "    loss=losses.CategoricalCrossentropy(),\n",
    "    metrics=metrics.CategoricalAccuracy()\n",
    ")\n",
    "\n",
    "model.summary()"
   ],
   "metadata": {
    "collapsed": false,
    "pycharm": {
     "name": "#%%\n"
    }
   }
  },
  {
   "cell_type": "code",
   "execution_count": 12,
   "outputs": [
    {
     "data": {
      "text/plain": "<Figure size 432x288 with 1 Axes>",
      "image/png": "[encoded data removed]"
     },
     "metadata": {
      "needs_background": "light"
     },
     "output_type": "display_data"
    }
   ],
   "source": [
    "history = model.fit(\n",
    "    x=x_feed,\n",
    "    y=y_feed,\n",
    "    epochs=80,\n",
    "    verbose=0,\n",
    "    validation_data=(x_test_feed, y_test_feed)\n",
    ")\n",
    "\n",
    "plt.plot(history.history['categorical_accuracy'])\n",
    "plt.plot(history.history['val_categorical_accuracy'])\n",
    "plt.show()"
   ],
   "metadata": {
    "collapsed": false,
    "pycharm": {
     "name": "#%%\n"
    }
   }
  },
  {
   "cell_type": "code",
   "execution_count": 12,
   "outputs": [],
   "source": [],
   "metadata": {
    "collapsed": false,
    "pycharm": {
     "name": "#%%\n"
    }
   }
  }
 ],
 "metadata": {
  "kernelspec": {
   "display_name": "Python 3",
   "language": "python",
   "name": "python3"
  },
  "language_info": {
   "codemirror_mode": {
    "name": "ipython",
    "version": 2
   },
   "file_extension": ".py",
   "mimetype": "text/x-python",
   "name": "python",
   "nbconvert_exporter": "python",
   "pygments_lexer": "ipython2",
   "version": "2.7.6"
  }
 },
 "nbformat": 4,
 "nbformat_minor": 0
}